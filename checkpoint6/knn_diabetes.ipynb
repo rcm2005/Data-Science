{
 "cells": [
  {
   "cell_type": "markdown",
   "id": "8d4cb143-eb6e-4087-8be4-4a03ad298c85",
   "metadata": {},
   "source": [
    "## Importação dos módulos necessário para executar o script"
   ]
  },
  {
   "cell_type": "code",
   "execution_count": 3,
   "id": "18107db4-7618-4de2-9c5a-956b7e31e41a",
   "metadata": {},
   "outputs": [],
   "source": [
    "import pandas as pd\n",
    "import numpy  as np\n",
    "import matplotlib.pyplot as plt\n",
    "from sklearn.model_selection import train_test_split\n",
    "from sklearn.neighbors import KNeighborsRegressor\n",
    "from sklearn import metrics\n",
    "from collections import namedtuple"
   ]
  },
  {
   "cell_type": "markdown",
   "id": "83502e7b-026d-40a8-b595-ea5b63ea519a",
   "metadata": {},
   "source": [
    "## Comando para plotar os gráficos dentro do notebook"
   ]
  },
  {
   "cell_type": "code",
   "execution_count": 4,
   "id": "96bf58df-0766-4019-bc54-dd527fa2c403",
   "metadata": {},
   "outputs": [],
   "source": [
    "%matplotlib inline"
   ]
  },
  {
   "cell_type": "markdown",
   "id": "1202ae8f-c9d5-4b39-aaa5-6ef097251886",
   "metadata": {},
   "source": [
    "## Implementações de Funções usadas no script"
   ]
  },
  {
   "cell_type": "code",
   "execution_count": 5,
   "id": "ae93c31c-a9d5-45e9-a3fe-83b894580e7b",
   "metadata": {},
   "outputs": [],
   "source": [
    "def carrega_dados(caminho_arquivo: str) -> pd.DataFrame:\n",
    "    \"\"\"\n",
    "    Cria um data frame a partir de um arquivo csv indicado pelo\n",
    "    argumento caminho_arquivo.\n",
    "    \"\"\"\n",
    "    \n",
    "    return pd.read_csv(caminho_arquivo)"
   ]
  },
  {
   "cell_type": "markdown",
   "id": "2aa4e1de-b140-4fd3-9c99-f99afd4ea142",
   "metadata": {},
   "source": [
    "## Script para a construção do modelo"
   ]
  },
  {
   "cell_type": "markdown",
   "id": "0c900d72-b06a-4af5-9bef-da2be5ec67bd",
   "metadata": {},
   "source": [
    "### carregamentos dos dados"
   ]
  },
  {
   "cell_type": "code",
   "execution_count": 6,
   "id": "4b037faf-c2f3-4c04-8f56-0dd19e12dcda",
   "metadata": {},
   "outputs": [],
   "source": [
    "## lê os dados do arquivo Sprint3 Diabetes.csv\n",
    "df_diabetes = carrega_dados('Sprint3 Diabetes.csv')"
   ]
  },
  {
   "cell_type": "markdown",
   "id": "f69f9854-87aa-4781-9593-e57a06a037a8",
   "metadata": {},
   "source": [
    "### pré-processamento dos dados"
   ]
  },
  {
   "cell_type": "code",
   "execution_count": 7,
   "id": "f4f61443-12da-4c86-aae6-d39f7d90ab5a",
   "metadata": {},
   "outputs": [
    {
     "name": "stdout",
     "output_type": "stream",
     "text": [
      "<class 'pandas.core.frame.DataFrame'>\n",
      "Index: 229781 entries, 0 to 253679\n",
      "Data columns (total 22 columns):\n",
      " #   Column                Non-Null Count   Dtype  \n",
      "---  ------                --------------   -----  \n",
      " 0   Diabetes_012          229781 non-null  float64\n",
      " 1   HighBP                229781 non-null  float64\n",
      " 2   HighChol              229781 non-null  float64\n",
      " 3   CholCheck             229781 non-null  float64\n",
      " 4   BMI                   229781 non-null  float64\n",
      " 5   Smoker                229781 non-null  float64\n",
      " 6   Stroke                229781 non-null  float64\n",
      " 7   HeartDiseaseorAttack  229781 non-null  float64\n",
      " 8   PhysActivity          229781 non-null  float64\n",
      " 9   Fruits                229781 non-null  float64\n",
      " 10  Veggies               229781 non-null  float64\n",
      " 11  HvyAlcoholConsump     229781 non-null  float64\n",
      " 12  AnyHealthcare         229781 non-null  float64\n",
      " 13  NoDocbcCost           229781 non-null  float64\n",
      " 14  GenHlth               229781 non-null  float64\n",
      " 15  MentHlth              229781 non-null  float64\n",
      " 16  PhysHlth              229781 non-null  float64\n",
      " 17  DiffWalk              229781 non-null  float64\n",
      " 18  Sex                   229781 non-null  float64\n",
      " 19  Age                   229781 non-null  float64\n",
      " 20  Education             229781 non-null  float64\n",
      " 21  Income                229781 non-null  float64\n",
      "dtypes: float64(22)\n",
      "memory usage: 40.3 MB\n"
     ]
    }
   ],
   "source": [
    "## faz a remoção de linhas duplicadas e valores ausentes\n",
    "df_diabetes.drop_duplicates(inplace=True)\n",
    "df_diabetes.dropna(inplace=True)\n",
    "\n",
    "## não há campos com texto\n",
    "df_diabetes.info()"
   ]
  },
  {
   "cell_type": "markdown",
   "id": "3b0a52c6-44f5-4184-b7e7-133abe2b70f5",
   "metadata": {},
   "source": [
    "### análise da correlção das variáveis com a variável alvo"
   ]
  },
  {
   "cell_type": "code",
   "execution_count": 8,
   "id": "d5d02d33-1080-4fe3-90b2-1522624293f3",
   "metadata": {},
   "outputs": [
    {
     "name": "stdout",
     "output_type": "stream",
     "text": [
      "Diabetes_012            1.000000\n",
      "GenHlth                 0.284881\n",
      "HighBP                  0.261976\n",
      "BMI                     0.212027\n",
      "DiffWalk                0.210638\n",
      "HighChol                0.203327\n",
      "Age                     0.184642\n",
      "HeartDiseaseorAttack    0.170816\n",
      "PhysHlth                0.160485\n",
      "Stroke                  0.100276\n",
      "CholCheck               0.075701\n",
      "MentHlth                0.057698\n",
      "Smoker                  0.046774\n",
      "Sex                     0.032243\n",
      "AnyHealthcare           0.024911\n",
      "NoDocbcCost             0.023568\n",
      "Fruits                 -0.025462\n",
      "Veggies                -0.043446\n",
      "HvyAlcoholConsump      -0.067164\n",
      "PhysActivity           -0.103408\n",
      "Education              -0.107742\n",
      "Income                 -0.147102\n",
      "Name: Diabetes_012, dtype: float64\n"
     ]
    }
   ],
   "source": [
    "matriz_correlacao = df_diabetes.corr()\n",
    "print(matriz_correlacao['Diabetes_012'].sort_values(ascending=False))"
   ]
  },
  {
   "cell_type": "code",
   "execution_count": 9,
   "id": "8a107a3f-0ba3-4d71-abdc-9375a41da1da",
   "metadata": {},
   "outputs": [
    {
     "name": "stdout",
     "output_type": "stream",
     "text": [
      "['HighBP', 'HighChol', 'BMI', 'GenHlth', 'DiffWalk']\n"
     ]
    }
   ],
   "source": [
    "## selecionamos apenas as variáveis com coeficiente de correlação acima de 0.2\n",
    "variaveis_candidatas =  matriz_correlacao[matriz_correlacao['Diabetes_012'] > 0.2].index.to_list()\n",
    "variaveis_candidatas.remove('Diabetes_012')\n",
    "print(variaveis_candidatas)"
   ]
  },
  {
   "cell_type": "markdown",
   "id": "8b93051a-d9ff-40c8-af08-5e80db12087f",
   "metadata": {},
   "source": [
    "### atribuição das variáveis preditores e alvo"
   ]
  },
  {
   "cell_type": "code",
   "execution_count": 10,
   "id": "ecd41bbc-3e2e-4276-8065-58256d0cd372",
   "metadata": {},
   "outputs": [],
   "source": [
    "X = df_diabetes[variaveis_candidatas]\n",
    "y = df_diabetes['Diabetes_012']"
   ]
  },
  {
   "cell_type": "code",
   "execution_count": 11,
   "id": "c7d19858-b859-497b-812b-69c65cc3ed1f",
   "metadata": {},
   "outputs": [
    {
     "data": {
      "text/html": [
       "<div>\n",
       "<style scoped>\n",
       "    .dataframe tbody tr th:only-of-type {\n",
       "        vertical-align: middle;\n",
       "    }\n",
       "\n",
       "    .dataframe tbody tr th {\n",
       "        vertical-align: top;\n",
       "    }\n",
       "\n",
       "    .dataframe thead th {\n",
       "        text-align: right;\n",
       "    }\n",
       "</style>\n",
       "<table border=\"1\" class=\"dataframe\">\n",
       "  <thead>\n",
       "    <tr style=\"text-align: right;\">\n",
       "      <th></th>\n",
       "      <th>HighBP</th>\n",
       "      <th>HighChol</th>\n",
       "      <th>BMI</th>\n",
       "      <th>GenHlth</th>\n",
       "      <th>DiffWalk</th>\n",
       "    </tr>\n",
       "  </thead>\n",
       "  <tbody>\n",
       "    <tr>\n",
       "      <th>0</th>\n",
       "      <td>1.0</td>\n",
       "      <td>1.0</td>\n",
       "      <td>40.0</td>\n",
       "      <td>5.0</td>\n",
       "      <td>1.0</td>\n",
       "    </tr>\n",
       "    <tr>\n",
       "      <th>1</th>\n",
       "      <td>0.0</td>\n",
       "      <td>0.0</td>\n",
       "      <td>25.0</td>\n",
       "      <td>3.0</td>\n",
       "      <td>0.0</td>\n",
       "    </tr>\n",
       "    <tr>\n",
       "      <th>2</th>\n",
       "      <td>1.0</td>\n",
       "      <td>1.0</td>\n",
       "      <td>28.0</td>\n",
       "      <td>5.0</td>\n",
       "      <td>1.0</td>\n",
       "    </tr>\n",
       "    <tr>\n",
       "      <th>3</th>\n",
       "      <td>1.0</td>\n",
       "      <td>0.0</td>\n",
       "      <td>27.0</td>\n",
       "      <td>2.0</td>\n",
       "      <td>0.0</td>\n",
       "    </tr>\n",
       "    <tr>\n",
       "      <th>4</th>\n",
       "      <td>1.0</td>\n",
       "      <td>1.0</td>\n",
       "      <td>24.0</td>\n",
       "      <td>2.0</td>\n",
       "      <td>0.0</td>\n",
       "    </tr>\n",
       "  </tbody>\n",
       "</table>\n",
       "</div>"
      ],
      "text/plain": [
       "   HighBP  HighChol   BMI  GenHlth  DiffWalk\n",
       "0     1.0       1.0  40.0      5.0       1.0\n",
       "1     0.0       0.0  25.0      3.0       0.0\n",
       "2     1.0       1.0  28.0      5.0       1.0\n",
       "3     1.0       0.0  27.0      2.0       0.0\n",
       "4     1.0       1.0  24.0      2.0       0.0"
      ]
     },
     "execution_count": 11,
     "metadata": {},
     "output_type": "execute_result"
    }
   ],
   "source": [
    "X.head()"
   ]
  },
  {
   "cell_type": "markdown",
   "id": "967f8914-5c07-4d96-82af-8109945e8d34",
   "metadata": {},
   "source": [
    "### treinamento do modelo"
   ]
  },
  {
   "cell_type": "code",
   "execution_count": 12,
   "id": "2c6dd166-945a-4c87-bf5e-f0bce9257ff2",
   "metadata": {},
   "outputs": [],
   "source": [
    "## separação dos dados em dados de treinamento e teste\n",
    "X_train, X_test, y_train, y_test = train_test_split(X,\n",
    "                                                    y,\n",
    "                                                    test_size=0.2,\n",
    "                                                    random_state=42)"
   ]
  },
  {
   "cell_type": "code",
   "execution_count": 13,
   "id": "91839ac3-212f-47a7-99e7-c7b61286cd5d",
   "metadata": {},
   "outputs": [],
   "source": [
    "## Como queremos avaliar o K-NN para diferentes valores de k, então\n",
    "## iremos treinar modelos com valores de k para 3,5,...,13. Para isso,\n",
    "## vamos criar uma lista, onde cada elemento dessa lista é uma instância\n",
    "## do K-NN."
   ]
  },
  {
   "cell_type": "code",
   "execution_count": 14,
   "id": "91d9d1b8-8cdb-4ff3-8e94-15f961bdd67f",
   "metadata": {},
   "outputs": [],
   "source": [
    "k_min = 3\n",
    "k_max = 13\n",
    "## o passo é o valor somado para produzir o próximo elemento da\n",
    "## sequência produzida pelo range\n",
    "passo = 2\n",
    "\n",
    "knn_modelos = [KNeighborsRegressor(n_neighbors=k)\n",
    "               for k in range(k_min, k_max +passo, passo)]"
   ]
  },
  {
   "cell_type": "code",
   "execution_count": 15,
   "id": "75ba94fa-7e53-44c9-ae98-3233d0dee882",
   "metadata": {},
   "outputs": [],
   "source": [
    "## Para cada modelo iremos computar o MAE e o RMSE"
   ]
  },
  {
   "cell_type": "code",
   "execution_count": null,
   "id": "57de79ef",
   "metadata": {},
   "outputs": [],
   "source": []
  },
  {
   "cell_type": "code",
   "execution_count": null,
   "id": "97ec21e3-fedd-4501-bef2-591ad7f45658",
   "metadata": {},
   "outputs": [],
   "source": [
    "k_corrente = k_min\n",
    "passo = 2\n",
    "k_previsto = []\n",
    "valor_mae = []\n",
    "valor_rmse = []\n",
    "\n",
    "for modelo in knn_modelos:\n",
    "    modelo.fit(X_train, y_train)\n",
    "    y_previsto = modelo.predict(X_test)\n",
    "    mae = metrics.mean_absolute_error(y_test, y_previsto)\n",
    "    mse = metrics.mean_squared_error(y_test, y_previsto)\n",
    "    rmse = np.sqrt(mse)\n",
    "    k_previsto.append(k_corrente)\n",
    "    valor_mae.append(mae)\n",
    "    valor_rmse.append(rmse)\n",
    "    k_corrente += passo"
   ]
  },
  {
   "cell_type": "code",
   "execution_count": 17,
   "id": "b2cb99a3-a9dc-40d0-b37f-220af8663869",
   "metadata": {},
   "outputs": [
    {
     "data": {
      "image/png": "[encoded data removed]",
      "text/plain": [
       "<Figure size 640x480 with 1 Axes>"
      ]
     },
     "metadata": {},
     "output_type": "display_data"
    }
   ],
   "source": [
    "figura, eixo = plt.subplots()\n",
    "eixo.plot(k_previsto,\n",
    "          valor_mae,\n",
    "          marker='o',\n",
    "          label='MAE')\n",
    "eixo.plot(k_previsto,\n",
    "          valor_rmse,\n",
    "          marker='o',\n",
    "          label='RMSE')\n",
    "eixo.set_xlabel('Valor previsto')\n",
    "eixo.set_ylabel('Valor real')\n",
    "plt.ylim([0,1])\n",
    "eixo.legend()\n",
    "plt.show()"
   ]
  }
 ],
 "metadata": {
  "kernelspec": {
   "display_name": "Python 3",
   "language": "python",
   "name": "python3"
  },
  "language_info": {
   "codemirror_mode": {
    "name": "ipython",
    "version": 3
   },
   "file_extension": ".py",
   "mimetype": "text/x-python",
   "name": "python",
   "nbconvert_exporter": "python",
   "pygments_lexer": "ipython3",
   "version": "3.11.5"
  }
 },
 "nbformat": 4,
 "nbformat_minor": 5
}
