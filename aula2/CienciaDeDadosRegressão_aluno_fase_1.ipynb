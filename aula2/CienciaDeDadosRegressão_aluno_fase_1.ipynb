{
 "cells": [
  {
   "cell_type": "code",
   "execution_count": 2,
   "metadata": {},
   "outputs": [],
   "source": [
    "import numpy as np\n",
    "from sklearn.linear_model import LinearRegression\n",
    "import pandas as pd\n",
    "import matplotlib.pyplot as plt"
   ]
  },
  {
   "cell_type": "code",
   "execution_count": 3,
   "metadata": {},
   "outputs": [],
   "source": [
    "df = pd.DataFrame([[2,3,4,6,4,40,5],[5,7,9,13,9,81,11]]).T\n",
    "df.columns = ['Km rodados','Valor cobrado']"
   ]
  },
  {
   "cell_type": "code",
   "execution_count": null,
   "metadata": {},
   "outputs": [],
   "source": [
    "#Comandos\n",
    "#1 - mean\n",
    "#2 - iloc\n",
    "#3 - LinearRegression\n",
    "#4 - fit\n",
    "#5 - coef_\n",
    "#6 - intercept_\n",
    "#7 - pd.DataFrame \n",
    "#8 - predict\n",
    "#9 - reset_index\n",
    "#10 - concat\n"
   ]
  },
  {
   "cell_type": "code",
   "execution_count": 7,
   "metadata": {},
   "outputs": [],
   "source": [
    "#1\n",
    "#Imprima a média de Km rodados e de Valor cobrado"
   ]
  },
  {
   "cell_type": "code",
   "execution_count": null,
   "metadata": {},
   "outputs": [],
   "source": [
    "#2\n",
    "#Defina as bases de treino. Use os 5 primeiros exemplos pra criar a equação. Os dois últimos vou usar pra testar a equação.\n",
    "#Para isso, use o comando 2.\n",
    "\n",
    "#3\n",
    "#Crie uma instância de uma regressão, Use o comando 3.\n",
    "\n",
    "#4\n",
    "#Treine o modelo usando o comando 4.\n",
    "\n",
    "#5\n",
    "#Mostra a primeira parte da equação, o coeficiente. Use o comando 5.\n",
    "\n",
    "#6\n",
    "#Mostra a segunda parte da equação, o intercept. Use o comando 6. "
   ]
  },
  {
   "cell_type": "code",
   "execution_count": 6,
   "metadata": {},
   "outputs": [],
   "source": [
    "#7\n",
    "#Use a equação criada pra prever os dois valores de teste. Crie um dataframe. Use os comandos 7 e 8.\n",
    "\n",
    "#8\n",
    "#Crio uma estrutura com os dados reais, que são aqueles da base original, pra ver se a equação realmente acertou os exemplos. Use os comandos 2 e 9.\n",
    "\n",
    "#9\n",
    "#Coloque os dois na mesma estrutura pra comparar. Use o comando 10.\n",
    "\n",
    "#10\n",
    "#Imprima os resultados os colocando na mesma estrutura."
   ]
  }
 ],
 "metadata": {
  "kernelspec": {
   "display_name": "base",
   "language": "python",
   "name": "python3"
  },
  "language_info": {
   "codemirror_mode": {
    "name": "ipython",
    "version": 3
   },
   "file_extension": ".py",
   "mimetype": "text/x-python",
   "name": "python",
   "nbconvert_exporter": "python",
   "pygments_lexer": "ipython3",
   "version": "3.12.0"
  }
 },
 "nbformat": 4,
 "nbformat_minor": 2
}
