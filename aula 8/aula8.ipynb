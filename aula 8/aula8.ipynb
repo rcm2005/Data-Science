{
 "cells": [
  {
   "cell_type": "code",
   "execution_count": 1,
   "metadata": {},
   "outputs": [],
   "source": [
    "import pandas as pd"
   ]
  },
  {
   "cell_type": "markdown",
   "metadata": {},
   "source": [
    "### Fontes de dados\n",
    "- App\n",
    "- Portal\n",
    "- Comprar de outras plataformas"
   ]
  },
  {
   "cell_type": "markdown",
   "metadata": {},
   "source": [
    "### Tipos de dtabase\n",
    "Transacional - entradas e saídas, updates (dinamico) (filme)\n",
    "Informacional - Estático, não muda muito (foto)"
   ]
  },
  {
   "cell_type": "markdown",
   "metadata": {},
   "source": [
    "### Tratamento de dados\n",
    "\n",
    "- quando se trabalha na area de dados você cuida de dados que seão masi estáticos, que são pouco modificados, enquanto isso, o pessoal de sistemas cuida da parte transacional dos dados (a parte mais dinâmica)"
   ]
  },
  {
   "cell_type": "markdown",
   "metadata": {},
   "source": [
    "### Tomada de decisão\n",
    "\n",
    "- Nosso papel como cientistas de dados é contribuir para uma melhor tomada de decisão, e fazemos isso utilizando dashboards, modelos lógicos etc...\n",
    "\n",
    "- Quando os dados são de baixa qualidade o estudo se torna inviável e requer um enriquecimento de dados ou a criação de dados sintéticos\n",
    "* Enriquecimento: Comprar bases de dados de outras instituições\n",
    "* Geração de dados sintéticos: Criação de dados\n",
    "\n",
    "- Pipeline = Lista de coisas a fazer"
   ]
  },
  {
   "cell_type": "markdown",
   "metadata": {},
   "source": []
  },
  {
   "cell_type": "markdown",
   "metadata": {},
   "source": [
    "### Tipos de bancos de dados\n",
    "\n",
    "- Data lake: dinâmico, recebe vários tipos de dados estruturados e não estruturados em diversas escalas\n",
    "- Data Warehouse: base de dados como um excel feita em planilhas\n",
    "- Data set\n",
    "- Data mesh: Um data mart só que pra engenharia de dados (conceito mais novo) (mesclagem) \n",
    "- Data mart: Banco de dados por grupo de negócio"
   ]
  },
  {
   "cell_type": "code",
   "execution_count": 4,
   "metadata": {},
   "outputs": [],
   "source": [
    "from sklearn.datasets import load_iris\n",
    "\n",
    "base_iris = load_iris()"
   ]
  },
  {
   "cell_type": "code",
   "execution_count": 7,
   "metadata": {},
   "outputs": [],
   "source": [
    "base_iris = pd.DataFrame(columns=base_iris.feature_names)"
   ]
  }
 ],
 "metadata": {
  "kernelspec": {
   "display_name": "Python 3",
   "language": "python",
   "name": "python3"
  },
  "language_info": {
   "codemirror_mode": {
    "name": "ipython",
    "version": 3
   },
   "file_extension": ".py",
   "mimetype": "text/x-python",
   "name": "python",
   "nbconvert_exporter": "python",
   "pygments_lexer": "ipython3",
   "version": "3.12.3"
  }
 },
 "nbformat": 4,
 "nbformat_minor": 2
}
