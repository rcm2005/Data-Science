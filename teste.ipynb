{
 "cells": [
  {
   "cell_type": "code",
   "execution_count": 3,
   "metadata": {},
   "outputs": [
    {
     "name": "stdout",
     "output_type": "stream",
     "text": [
      "Email:  xuperex\n"
     ]
    },
    {
     "ename": "NameError",
     "evalue": "name 'usuarios' is not defined",
     "output_type": "error",
     "traceback": [
      "\u001b[1;31m---------------------------------------------------------------------------\u001b[0m",
      "\u001b[1;31mNameError\u001b[0m                                 Traceback (most recent call last)",
      "Cell \u001b[1;32mIn[3], line 6\u001b[0m\n\u001b[0;32m      4\u001b[0m \u001b[38;5;28;01mfor\u001b[39;00m chave \u001b[38;5;129;01min\u001b[39;00m \u001b[38;5;28mrange\u001b[39m(\u001b[38;5;241m0\u001b[39m,\u001b[38;5;28mlen\u001b[39m(tupla)):\n\u001b[0;32m      5\u001b[0m     \u001b[38;5;28mprint\u001b[39m(\u001b[38;5;124m\"\u001b[39m\u001b[38;5;124mEmail: \u001b[39m\u001b[38;5;124m\"\u001b[39m, tupla[chave][\u001b[38;5;241m1\u001b[39m])\n\u001b[1;32m----> 6\u001b[0m     \u001b[43musuarios\u001b[49m[tupla[chave]]\u001b[38;5;241m=\u001b[39m[\u001b[38;5;28minput\u001b[39m(\u001b[38;5;124m\"\u001b[39m\u001b[38;5;124mDigite o nome\u001b[39m\u001b[38;5;124m\"\u001b[39m), \u001b[38;5;28minput\u001b[39m(\u001b[38;5;124m\"\u001b[39m\u001b[38;5;124mDigite o nível\u001b[39m\u001b[38;5;124m\"\u001b[39m)]\n",
      "\u001b[1;31mNameError\u001b[0m: name 'usuarios' is not defined"
     ]
    }
   ],
   "source": [
    "emails = [\"xuperex\", \"mamerex\", \"enxupetex\"]\n",
    "\n",
    "tupla = list(enumerate(emails))\n",
    "for chave in range(0,len(tupla)):\n",
    "    print(\"Email: \", tupla[chave][1])\n",
    "    usuarios[tupla[chave]]=[input(\"Digite o nome\"), input(\"Digite o nível\")]"
   ]
  },
  {
   "cell_type": "code",
   "execution_count": 4,
   "metadata": {},
   "outputs": [
    {
     "ename": "TypeError",
     "evalue": "unsupported operand type(s) for +: 'float' and 'str'",
     "output_type": "error",
     "traceback": [
      "\u001b[1;31m---------------------------------------------------------------------------\u001b[0m",
      "\u001b[1;31mTypeError\u001b[0m                                 Traceback (most recent call last)",
      "Cell \u001b[1;32mIn[4], line 8\u001b[0m\n\u001b[0;32m      4\u001b[0m mediaMensalidade \u001b[38;5;241m=\u001b[39m \u001b[38;5;241m1050.5\u001b[39m\n\u001b[0;32m      6\u001b[0m total \u001b[38;5;241m=\u001b[39m qtde_funcionarios \u001b[38;5;241m+\u001b[39m mediaMensalidade  \u001b[38;5;66;03m# total = 100 + 1050.5 = 1150.5\u001b[39;00m\n\u001b[1;32m----> 8\u001b[0m \u001b[38;5;28mprint\u001b[39m(\u001b[43mtotal\u001b[49m\u001b[43m \u001b[49m\u001b[38;5;241;43m+\u001b[39;49m\u001b[43m \u001b[49m\u001b[43mqtde_funcionarios\u001b[49m\u001b[43m \u001b[49m\u001b[38;5;241;43m+\u001b[39;49m\u001b[43m \u001b[49m\u001b[43mnome\u001b[49m)  \u001b[38;5;66;03m# print(1150.5 + 100 + \"Python\")\u001b[39;00m\n",
      "\u001b[1;31mTypeError\u001b[0m: unsupported operand type(s) for +: 'float' and 'str'"
     ]
    }
   ],
   "source": [
    "nome = \"Python\"\n",
    "empresa = 'FIAP'\n",
    "qtde_funcionarios = 100\n",
    "mediaMensalidade = 1050.5\n",
    "\n",
    "total = qtde_funcionarios + mediaMensalidade  # total = 100 + 1050.5 = 1150.5\n",
    "\n",
    "print(total + qtde_funcionarios + nome)  # print(1150.5 + 100 + \"Python\")\n"
   ]
  }
 ],
 "metadata": {
  "kernelspec": {
   "display_name": "Python 3",
   "language": "python",
   "name": "python3"
  },
  "language_info": {
   "codemirror_mode": {
    "name": "ipython",
    "version": 3
   },
   "file_extension": ".py",
   "mimetype": "text/x-python",
   "name": "python",
   "nbconvert_exporter": "python",
   "pygments_lexer": "ipython3",
   "version": "3.12.0"
  }
 },
 "nbformat": 4,
 "nbformat_minor": 2
}
