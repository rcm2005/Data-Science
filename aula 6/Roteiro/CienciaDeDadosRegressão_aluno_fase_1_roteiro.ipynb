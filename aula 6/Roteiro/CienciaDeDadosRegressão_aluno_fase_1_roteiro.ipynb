{
 "cells": [
  {
   "cell_type": "code",
   "execution_count": 2,
   "metadata": {},
   "outputs": [],
   "source": [
    "import numpy as np\n",
    "from sklearn.linear_model import LinearRegression\n",
    "import pandas as pd\n",
    "import matplotlib.pyplot as plt"
   ]
  },
  {
   "cell_type": "code",
   "execution_count": 3,
   "metadata": {},
   "outputs": [],
   "source": [
    "df = pd.DataFrame([[2,3,4,6,4,40,5],[5,7,9,13,9,81,11]]).T\n",
    "df.columns = ['Km rodados','Valor cobrado']"
   ]
  },
  {
   "cell_type": "code",
   "execution_count": null,
   "metadata": {},
   "outputs": [],
   "source": [
    "#Comandos\n",
    "#1 - mean\n",
    "#2 - iloc\n",
    "#3 - LinearRegression\n",
    "#4 - fit\n",
    "#5 - coef_\n",
    "#6 - intercept_\n",
    "#7 - score(X_test, y_test)\n"
   ]
  },
  {
   "cell_type": "code",
   "execution_count": 7,
   "metadata": {},
   "outputs": [],
   "source": [
    "#1\n",
    "#Imprima a média de Km rodados e de Valor cobrado.\n",
    "#Aqui você vai usar o comando 1."
   ]
  },
  {
   "cell_type": "code",
   "execution_count": 5,
   "metadata": {},
   "outputs": [],
   "source": [
    "#2\n",
    "#Defina as bases de treino. Use os 5 primeiros exemplos pra criar a equação. Os dois últimos vou usar pra testar a equação.\n",
    "#Para isso, use o comando 2.\n",
    "\n",
    "#3\n",
    "#Crie uma instância de uma regressão, Use o comando 3.\n",
    "\n",
    "#4\n",
    "#Treine o modelo usando o comando 4.\n",
    "\n",
    "#5\n",
    "#Mostra a primeira parte da equação, o coeficiente. Use o comando 5.\n",
    "\n",
    "#6\n",
    "#Mostra a segunda parte da equação, o intercept. Use o comando 6. "
   ]
  },
  {
   "cell_type": "code",
   "execution_count": 6,
   "metadata": {},
   "outputs": [],
   "source": [
    "#7\n",
    "#Imprima na tela o score do modelo. Use o comando 7."
   ]
  }
 ],
 "metadata": {
  "kernelspec": {
   "display_name": "base",
   "language": "python",
   "name": "python3"
  },
  "language_info": {
   "codemirror_mode": {
    "name": "ipython",
    "version": 3
   },
   "file_extension": ".py",
   "mimetype": "text/x-python",
   "name": "python",
   "nbconvert_exporter": "python",
   "pygments_lexer": "ipython3",
   "version": "3.11.5"
  }
 },
 "nbformat": 4,
 "nbformat_minor": 2
}
