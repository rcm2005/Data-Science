{
 "cells": [
  {
   "cell_type": "code",
   "execution_count": 1,
   "id": "e5a7b34c-4837-4f30-8164-ec987537286a",
   "metadata": {},
   "outputs": [
    {
     "ename": "ModuleNotFoundError",
     "evalue": "No module named 'pandas'",
     "output_type": "error",
     "traceback": [
      "\u001b[1;31m---------------------------------------------------------------------------\u001b[0m",
      "\u001b[1;31mModuleNotFoundError\u001b[0m                       Traceback (most recent call last)",
      "Cell \u001b[1;32mIn[1], line 1\u001b[0m\n\u001b[1;32m----> 1\u001b[0m \u001b[38;5;28;01mimport\u001b[39;00m \u001b[38;5;21;01mpandas\u001b[39;00m \u001b[38;5;28;01mas\u001b[39;00m \u001b[38;5;21;01mpd\u001b[39;00m\n",
      "\u001b[1;31mModuleNotFoundError\u001b[0m: No module named 'pandas'"
     ]
    }
   ],
   "source": [
    "import pandas as pd"
   ]
  },
  {
   "cell_type": "code",
   "execution_count": 3,
   "id": "ff6eb942-a74a-4289-bdd0-668bbca29b40",
   "metadata": {},
   "outputs": [],
   "source": [
    "base_1 = pd.read_csv('brain_stroke.csv')#OK https://www.kaggle.com/datasets/jillanisofttech/brain-stroke-dataset\n",
    "base_2 = pd.read_csv('ThoraricSurgery.csv') #https://www.kaggle.com/datasets/sid321axn/thoraric-surgery/data\n",
    "base_3 = pd.read_csv('thyroidDF.csv') #https://www.kaggle.com/datasets/emmanuelfwerr/thyroid-disease-data\n",
    "base_4 = pd.read_csv('kidney_stone_data.csv') #https://www.kaggle.com/datasets/utkarshxy/kidney-stone-data\n",
    "base_5 = pd.read_csv('haberman_new.csv') #https://www.kaggle.com/datasets/gilsousa/habermans-survival-data-set\n",
    "base_6 = pd.read_csv('cardiac-surgery-and-percutaneous-coronary-interventions-by-hospital-beginning-2008-1.csv') #https://www.kaggle.com/datasets/sanjanchaudhari/cardiac-surgery-and-percutaneous\n",
    "base_7 = pd.read_csv('BRCA.csv') #https://www.kaggle.com/datasets/amandam1/breastcancerdataset\n",
    "base_8 = pd.read_csv('brain_stroke.csv') #https://www.kaggle.com/datasets/jillanisofttech/brain-stroke-dataset"
   ]
  }
 ],
 "metadata": {
  "kernelspec": {
   "display_name": "Python 3 (ipykernel)",
   "language": "python",
   "name": "python3"
  },
  "language_info": {
   "codemirror_mode": {
    "name": "ipython",
    "version": 3
   },
   "file_extension": ".py",
   "mimetype": "text/x-python",
   "name": "python",
   "nbconvert_exporter": "python",
   "pygments_lexer": "ipython3",
   "version": "3.12.0"
  }
 },
 "nbformat": 4,
 "nbformat_minor": 5
}
