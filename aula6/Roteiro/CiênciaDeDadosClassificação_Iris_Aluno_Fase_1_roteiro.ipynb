{
 "cells": [
  {
   "cell_type": "code",
   "execution_count": 2,
   "metadata": {},
   "outputs": [],
   "source": [
    "import pandas as pd\n",
    "from sklearn.tree import DecisionTreeClassifier\n",
    "from sklearn import datasets\n",
    "from sklearn.model_selection import train_test_split"
   ]
  },
  {
   "cell_type": "code",
   "execution_count": 3,
   "metadata": {},
   "outputs": [],
   "source": [
    "#Comandos\n",
    "#1 - novo_dataframe = X[['atributo_1','atributo_2']]\n",
    "#2 - X_train, X_test, y_train, y_test = train_test_split(base_de_variaveis_independentes(X),base_de_variavel_dependente(y), test_size=tamanho_da_base_de_teste(De 0 a 1), random_state=42)\n",
    "#3 - classificador.score(X_test, y_test)\n",
    "\n",
    "X, y = datasets.load_iris(return_X_y=True, as_frame=True)"
   ]
  },
  {
   "cell_type": "code",
   "execution_count": 5,
   "metadata": {},
   "outputs": [],
   "source": [
    "#1 - Defina as variáveis independentes usando apenas as informações das pétalas - Comando 1\n",
    "#2 - Defina a base de treino como 70% dos exemplos - Comando 2.\n",
    "#3 - Mostre a acurácia do modelo a partir da base de teste. Comando 3\n",
    "#5 - Defina as variáveis independentes usando apenas as informações das sépalas. Comando 1\n",
    "#6 - Defina a base de treino como 70% dos exemplos. Comando 2.\n",
    "#7 - Mostre a acurácia do modelo a partir da base de teste. Comando 3.\n",
    "#9 - Compare os dois modelos criados. Qual apresentou melhor acurácia?"
   ]
  }
 ],
 "metadata": {
  "kernelspec": {
   "display_name": "base",
   "language": "python",
   "name": "python3"
  },
  "language_info": {
   "codemirror_mode": {
    "name": "ipython",
    "version": 3
   },
   "file_extension": ".py",
   "mimetype": "text/x-python",
   "name": "python",
   "nbconvert_exporter": "python",
   "pygments_lexer": "ipython3",
   "version": "3.11.5"
  }
 },
 "nbformat": 4,
 "nbformat_minor": 2
}
