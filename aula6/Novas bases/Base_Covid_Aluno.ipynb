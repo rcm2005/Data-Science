{
 "cells": [
  {
   "cell_type": "code",
   "execution_count": 1,
   "metadata": {},
   "outputs": [],
   "source": [
    "import pandas as pd"
   ]
  },
  {
   "cell_type": "code",
   "execution_count": 2,
   "metadata": {},
   "outputs": [],
   "source": [
    "base = pd.read_csv('covid_data.csv')"
   ]
  },
  {
   "cell_type": "code",
   "execution_count": 14,
   "metadata": {},
   "outputs": [],
   "source": [
    "#1 - Faça a dummificação nas variáveis categóricas.\n",
    "#2 - Separes as bases em variáveis independentes e dependentes com o objetivo de definir o nível final (CLASIFFICATION_FINAL).\n",
    "#3 - Crie a base de treino e de teste.\n",
    "#4 - Crie o classificador\n",
    "#5 - Avalie o classificador\n",
    "#6 - Separes as bases em variáveis independentes e dependentes com o objetivo de definir se o paciente morreu ou não (DATE_DIED). Para isso, crie uma função \n",
    "#para colocar valor em uma nova coluna, com valores possíveis 1 ou 0.\n",
    "#7 - Crie a base de treino e de teste.\n",
    "#8 - Crie o classificador\n",
    "#9 - Avalie o classificador"
   ]
  }
 ],
 "metadata": {
  "kernelspec": {
   "display_name": "base",
   "language": "python",
   "name": "python3"
  },
  "language_info": {
   "codemirror_mode": {
    "name": "ipython",
    "version": 3
   },
   "file_extension": ".py",
   "mimetype": "text/x-python",
   "name": "python",
   "nbconvert_exporter": "python",
   "pygments_lexer": "ipython3",
   "version": "3.11.5"
  }
 },
 "nbformat": 4,
 "nbformat_minor": 2
}
